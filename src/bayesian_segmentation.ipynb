{
 "cells": [
  {
   "cell_type": "code",
   "execution_count": 1,
   "metadata": {},
   "outputs": [
    {
     "name": "stdout",
     "output_type": "stream",
     "text": [
      "Jupyter environment detected. Enabling Open3D WebVisualizer.\n",
      "[Open3D INFO] WebRTC GUI backend enabled.\n",
      "[Open3D INFO] WebRTCWindowSystem: HTTP handshake server disabled.\n"
     ]
    },
    {
     "name": "stderr",
     "output_type": "stream",
     "text": [
      "/usr/lib/python3/dist-packages/scipy/__init__.py:146: UserWarning: A NumPy version >=1.17.3 and <1.25.0 is required for this version of SciPy (detected version 1.26.4\n",
      "  warnings.warn(f\"A NumPy version >={np_minversion} and <{np_maxversion}\"\n"
     ]
    }
   ],
   "source": [
    "import AutoViewpointGeneration\n",
    "from open3d.geometry import TriangleMesh, PointCloud\n",
    "from open3d.visualization.rendering import MaterialRecord\n",
    "import open3d as o3d  # . . . . . . . . . . . . . . . Open3D\n",
    "import numpy as np\n",
    "\n"
   ]
  },
  {
   "cell_type": "markdown",
   "metadata": {},
   "source": [
    "Set Camera Parameters"
   ]
  },
  {
   "cell_type": "code",
   "execution_count": 2,
   "metadata": {},
   "outputs": [],
   "source": [
    "my_avg=AutoViewpointGeneration.AutoViewpointGeneration()\n",
    "my_avg.camera.dof=4\n",
    "my_avg.camera.magnification=3\n",
    "my_avg.camera.sensor_height_mm=23.8\n",
    "my_avg.camera.sensor_width_mm=35.7\n",
    "my_avg.camera.focal_distance=28\n",
    "my_avg.camera.sensor_height_px=6336\n",
    "my_avg.camera.sensor_width_px=9504\n",
    "my_avg.camera.roi_height=1024\n",
    "my_avg.camera.roi_width=1024\n",
    "\n"
   ]
  },
  {
   "cell_type": "markdown",
   "metadata": {},
   "source": [
    "Load Model and Visualize Model"
   ]
  },
  {
   "cell_type": "code",
   "execution_count": 4,
   "metadata": {},
   "outputs": [
    {
     "name": "stdout",
     "output_type": "stream",
     "text": [
      "Loading model from /home/macs/bayesian_segmentation/parts/Sphere/Model/Sphere.stl\n",
      "Loading model: /home/macs/bayesian_segmentation/parts/Sphere/Model/Sphere.stl\n",
      "folder: /home/macs/bayesian_segmentation/parts/Sphere/Model, ext: .stl\n",
      "folder: /home/macs/bayesian_segmentation/parts/Sphere/PointCloud\n"
     ]
    }
   ],
   "source": [
    "my_avg.load_model(\"/home/macs/bayesian_segmentation/parts/Sphere/Model/Sphere.stl\",\"mm\",[0., 1., 0., 1.])\n",
    "my_avg.generate_pcd()\n",
    "pcd=PointCloud()\n",
    "pcd=my_avg.spcd.pcd\n",
    "#Visualize the point cloud\n",
    "o3d.visualization.draw_geometries([pcd])"
   ]
  },
  {
   "cell_type": "markdown",
   "metadata": {},
   "source": [
    "Perform Segmentation with Bayesian optimization"
   ]
  },
  {
   "cell_type": "code",
   "execution_count": 6,
   "metadata": {},
   "outputs": [
    {
     "name": "stdout",
     "output_type": "stream",
     "text": [
      "Partitioning part into planar patches:\n",
      "10\n",
      "Finding bs_high...\n",
      "bs_high = 1 is not valid, incrementing bs_high...\n",
      "bs_high = 2 is not valid, incrementing bs_high...\n",
      "bs_high = 4 is not valid, incrementing bs_high...\n",
      "bs_high = 8 is not valid, incrementing bs_high...\n",
      "bs_high = 16 is valid. Optimizing k...\n",
      "k: 12, Valid: True\n",
      "k: 10, Valid: True\n",
      "k: 9, Valid: True\n",
      "k: 8, Valid: False\n",
      "Partitioning planar patch 0 into regions:\n",
      "287.08965227808585\n",
      "min area found 2.745122049978448\n",
      "|   iter    |  target   |     k     |\n",
      "-------------------------------------\n",
      "0.1\n",
      "total_point_out_percentage is zero\n",
      "| \u001b[0m1        \u001b[0m | \u001b[0m-0.0     \u001b[0m | \u001b[0m5.035    \u001b[0m |\n",
      "total_point_out_percentage is zero\n",
      "| \u001b[0m2        \u001b[0m | \u001b[0m-2.817   \u001b[0m | \u001b[0m8.235    \u001b[0m |\n",
      "total_point_out_percentage is zero\n",
      "| \u001b[0m3        \u001b[0m | \u001b[0m-0.0     \u001b[0m | \u001b[0m5.035    \u001b[0m |\n",
      "| \u001b[0m4        \u001b[0m | \u001b[0m-0.09686 \u001b[0m | \u001b[0m3.811    \u001b[0m |\n",
      "=====================================\n",
      "5\n",
      "Partitioning planar patch 1 into regions:\n",
      "288.56003044733154\n",
      "min area found 2.7591816564538965\n",
      "|   iter    |  target   |     k     |\n",
      "-------------------------------------\n",
      "0.1\n",
      "total_point_out_percentage is zero\n",
      "| \u001b[0m1        \u001b[0m | \u001b[0m-0.0     \u001b[0m | \u001b[0m5.06     \u001b[0m |\n",
      "total_point_out_percentage is zero\n",
      "| \u001b[0m2        \u001b[0m | \u001b[0m-2.778   \u001b[0m | \u001b[0m8.278    \u001b[0m |\n",
      "total_point_out_percentage is zero\n",
      "| \u001b[0m3        \u001b[0m | \u001b[0m-0.0     \u001b[0m | \u001b[0m5.061    \u001b[0m |\n",
      "| \u001b[0m4        \u001b[0m | \u001b[0m-0.0978  \u001b[0m | \u001b[0m3.83     \u001b[0m |\n",
      "=====================================\n",
      "5\n",
      "Partitioning planar patch 2 into regions:\n",
      "289.37700887850474\n",
      "min area found 2.7669935211030547\n",
      "|   iter    |  target   |     k     |\n",
      "-------------------------------------\n",
      "0.1\n",
      "total_point_out_percentage is zero\n",
      "| \u001b[0m1        \u001b[0m | \u001b[0m-0.0     \u001b[0m | \u001b[0m5.075    \u001b[0m |\n",
      "total_point_out_percentage is zero\n",
      "| \u001b[0m2        \u001b[0m | \u001b[0m-2.788   \u001b[0m | \u001b[0m8.301    \u001b[0m |\n",
      "total_point_out_percentage is zero\n",
      "| \u001b[0m3        \u001b[0m | \u001b[0m-0.0     \u001b[0m | \u001b[0m5.075    \u001b[0m |\n",
      "| \u001b[0m4        \u001b[0m | \u001b[0m-0.1017  \u001b[0m | \u001b[0m3.841    \u001b[0m |\n",
      "=====================================\n",
      "5\n",
      "Partitioning planar patch 3 into regions:\n",
      "287.5680347063618\n",
      "min area found 2.749696294092654\n",
      "|   iter    |  target   |     k     |\n",
      "-------------------------------------\n",
      "0.1\n",
      "total_point_out_percentage is zero\n",
      "| \u001b[0m1        \u001b[0m | \u001b[0m-0.0     \u001b[0m | \u001b[0m5.043    \u001b[0m |\n",
      "total_point_out_percentage is zero\n",
      "| \u001b[0m2        \u001b[0m | \u001b[0m-2.816   \u001b[0m | \u001b[0m8.249    \u001b[0m |\n",
      "| \u001b[0m3        \u001b[0m | \u001b[0m-0.002088\u001b[0m | \u001b[0m5.043    \u001b[0m |\n",
      "| \u001b[0m4        \u001b[0m | \u001b[0m-0.009214\u001b[0m | \u001b[0m4.65     \u001b[0m |\n",
      "=====================================\n",
      "5\n",
      "Partitioning planar patch 4 into regions:\n",
      "289.6072370430196\n",
      "min area found 2.7691949393914563\n",
      "|   iter    |  target   |     k     |\n",
      "-------------------------------------\n",
      "0.1\n",
      "total_point_out_percentage is zero\n",
      "| \u001b[0m1        \u001b[0m | \u001b[0m-0.0     \u001b[0m | \u001b[0m5.079    \u001b[0m |\n",
      "total_point_out_percentage is zero\n",
      "| \u001b[0m2        \u001b[0m | \u001b[0m-2.81    \u001b[0m | \u001b[0m8.308    \u001b[0m |\n",
      "total_point_out_percentage is zero\n",
      "| \u001b[0m3        \u001b[0m | \u001b[0m-0.0     \u001b[0m | \u001b[0m5.079    \u001b[0m |\n",
      "| \u001b[0m4        \u001b[0m | \u001b[0m-0.096   \u001b[0m | \u001b[0m3.844    \u001b[0m |\n",
      "=====================================\n",
      "5\n",
      "Partitioning planar patch 5 into regions:\n",
      "289.4457446083538\n",
      "min area found 2.7676507651595115\n",
      "|   iter    |  target   |     k     |\n",
      "-------------------------------------\n",
      "0.1\n",
      "total_point_out_percentage is zero\n",
      "| \u001b[0m1        \u001b[0m | \u001b[0m-0.0     \u001b[0m | \u001b[0m5.076    \u001b[0m |\n",
      "total_point_out_percentage is zero\n",
      "| \u001b[0m2        \u001b[0m | \u001b[0m-2.785   \u001b[0m | \u001b[0m8.303    \u001b[0m |\n",
      "total_point_out_percentage is zero\n",
      "| \u001b[0m3        \u001b[0m | \u001b[0m-0.0     \u001b[0m | \u001b[0m5.076    \u001b[0m |\n",
      "| \u001b[0m4        \u001b[0m | \u001b[0m-0.09591 \u001b[0m | \u001b[0m3.842    \u001b[0m |\n",
      "=====================================\n",
      "5\n",
      "Partitioning planar patch 6 into regions:\n",
      "264.2623214533972\n",
      "min area found 2.5268494348153383\n",
      "|   iter    |  target   |     k     |\n",
      "-------------------------------------\n",
      "0.1\n",
      "total_point_out_percentage is zero\n",
      "| \u001b[0m1        \u001b[0m | \u001b[0m-0.0     \u001b[0m | \u001b[0m4.634    \u001b[0m |\n",
      "total_point_out_percentage is zero\n",
      "| \u001b[0m2        \u001b[0m | \u001b[0m-2.706   \u001b[0m | \u001b[0m7.581    \u001b[0m |\n",
      "total_point_out_percentage is zero\n",
      "| \u001b[0m3        \u001b[0m | \u001b[0m-0.0     \u001b[0m | \u001b[0m4.634    \u001b[0m |\n",
      "| \u001b[0m4        \u001b[0m | \u001b[0m-0.09855 \u001b[0m | \u001b[0m3.508    \u001b[0m |\n",
      "=====================================\n",
      "4\n",
      "Partitioning planar patch 7 into regions:\n",
      "266.06878862216547\n",
      "min area found 2.5441226901145035\n",
      "|   iter    |  target   |     k     |\n",
      "-------------------------------------\n",
      "0.1\n",
      "total_point_out_percentage is zero\n",
      "| \u001b[0m1        \u001b[0m | \u001b[0m-0.000367\u001b[0m | \u001b[0m4.666    \u001b[0m |\n",
      "total_point_out_percentage is zero\n",
      "| \u001b[0m2        \u001b[0m | \u001b[0m-2.71    \u001b[0m | \u001b[0m7.632    \u001b[0m |\n",
      "total_point_out_percentage is zero\n",
      "| \u001b[0m3        \u001b[0m | \u001b[0m-0.000367\u001b[0m | \u001b[0m4.666    \u001b[0m |\n",
      "| \u001b[0m4        \u001b[0m | \u001b[0m-0.09723 \u001b[0m | \u001b[0m3.532    \u001b[0m |\n",
      "=====================================\n",
      "4\n",
      "Partitioning planar patch 8 into regions:\n",
      "265.63494847750684\n",
      "min area found 2.539974354785041\n",
      "|   iter    |  target   |     k     |\n",
      "-------------------------------------\n",
      "0.1\n",
      "total_point_out_percentage is zero\n",
      "| \u001b[0m1        \u001b[0m | \u001b[0m-0.0     \u001b[0m | \u001b[0m4.658    \u001b[0m |\n",
      "total_point_out_percentage is zero\n",
      "| \u001b[0m2        \u001b[0m | \u001b[0m-2.718   \u001b[0m | \u001b[0m7.62     \u001b[0m |\n",
      "total_point_out_percentage is zero\n",
      "| \u001b[0m3        \u001b[0m | \u001b[0m-0.0     \u001b[0m | \u001b[0m4.659    \u001b[0m |\n",
      "| \u001b[0m4        \u001b[0m | \u001b[0m-0.0955  \u001b[0m | \u001b[0m3.526    \u001b[0m |\n",
      "=====================================\n",
      "4\n",
      "overall packing efficiency 0.5961631085858488\n",
      "total point out percentage 7.903791938609623e-05\n",
      "[PointCloud with 672 points., PointCloud with 629 points., PointCloud with 565 points., PointCloud with 561 points., PointCloud with 543 points., PointCloud with 584 points., PointCloud with 568 points., PointCloud with 669 points., PointCloud with 661 points., PointCloud with 530 points., PointCloud with 685 points., PointCloud with 571 points., PointCloud with 558 points., PointCloud with 552 points., PointCloud with 635 points., PointCloud with 555 points., PointCloud with 662 points., PointCloud with 550 points., PointCloud with 550 points., PointCloud with 654 points., PointCloud with 560 points., PointCloud with 665 points., PointCloud with 651 points., PointCloud with 542 points., PointCloud with 559 points., PointCloud with 579 points., PointCloud with 581 points., PointCloud with 621 points., PointCloud with 537 points., PointCloud with 686 points., PointCloud with 689 points., PointCloud with 696 points., PointCloud with 652 points., PointCloud with 668 points., PointCloud with 675 points., PointCloud with 682 points., PointCloud with 681 points., PointCloud with 663 points., PointCloud with 689 points., PointCloud with 654 points., PointCloud with 662 points., PointCloud with 688 points.]\n"
     ]
    }
   ],
   "source": [
    "\n",
    "pcds=my_avg.smart_partition()\n",
    "# write a for loop to read each pcd and give random colour to the pcd\n",
    "cluster_collection_color = []\n",
    "for i in range(len(pcds)):\n",
    "    temp_pcd = pcds[i]\n",
    "    color = np.random.random([3, 1])\n",
    "    temp_pcd.paint_uniform_color(color)\n",
    "    cluster_collection_color.append(temp_pcd)\n",
    "\n",
    "o3d.visualization.draw_geometries(cluster_collection_color)\n",
    "\n"
   ]
  }
 ],
 "metadata": {
  "kernelspec": {
   "display_name": "Python 3",
   "language": "python",
   "name": "python3"
  },
  "language_info": {
   "codemirror_mode": {
    "name": "ipython",
    "version": 3
   },
   "file_extension": ".py",
   "mimetype": "text/x-python",
   "name": "python",
   "nbconvert_exporter": "python",
   "pygments_lexer": "ipython3",
   "version": "3.10.12"
  }
 },
 "nbformat": 4,
 "nbformat_minor": 2
}
