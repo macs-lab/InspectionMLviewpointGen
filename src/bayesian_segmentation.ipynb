{
 "cells": [
  {
   "cell_type": "code",
   "execution_count": 21,
   "metadata": {},
   "outputs": [],
   "source": [
    "import AutoViewpointGeneration\n",
    "from open3d.geometry import PointCloud\n",
    "import open3d as o3d  # . . . . . . . . . . . . . . . Open3D\n",
    "import numpy as np\n",
    "import os\n",
    "\n",
    "\n"
   ]
  },
  {
   "attachments": {},
   "cell_type": "markdown",
   "metadata": {},
   "source": [
    "# Set Camera Parameters\n",
    "\n",
    "- Load the camera details in this section\n",
    "- Depth of field is represented by DOF\n",
    "- Field of view  is calculated using the parameters such as magnification, region of interest , sensor size and pixel resolution"
   ]
  },
  {
   "cell_type": "code",
   "execution_count": 30,
   "metadata": {},
   "outputs": [],
   "source": [
    "my_avg=AutoViewpointGeneration.AutoViewpointGeneration()\n",
    "my_avg.camera.dof=4\n",
    "my_avg.camera.magnification=3\n",
    "my_avg.camera.sensor_height_mm=23.8\n",
    "my_avg.camera.sensor_width_mm=35.7\n",
    "my_avg.camera.focal_distance=28\n",
    "my_avg.camera.sensor_height_px=6336\n",
    "my_avg.camera.sensor_width_px=9504\n",
    "my_avg.camera.roi_height=1024\n",
    "my_avg.camera.roi_width=1024\n",
    "my_avg.surface_resampler.points_per_square_mm=2\n"
   ]
  },
  {
   "attachments": {},
   "cell_type": "markdown",
   "metadata": {},
   "source": [
    "## Load Model and Visualize Model\n",
    "\n",
    "- Here the stl model Sphere.stl is used, the file can be found in the parts folder.\n",
    "- In order to test other stl files, place the desired stl file in the parts folder and type in your stl file name in the places of \"Sphere.stl\"\n",
    "- After loading the model the point cloud for that model is generated on a new window, check the visualization and close it inorder to proceed forward\n"
   ]
  },
  {
   "cell_type": "code",
   "execution_count": null,
   "metadata": {},
   "outputs": [],
   "source": [
    "relative_path = os.path.join( 'parts', 't-stiffner_2k.stl')\n",
    "absolute_path = os.path.abspath(relative_path)\n",
    "\n",
    "# change \"m\" to \"mm\" in the load_model function if this cell does not work\n",
    "my_avg.load_model(absolute_path,\"m\",[0., 1., 0., 1.]) \n",
    "my_avg.generate_pcd()\n",
    "pcd=PointCloud()\n",
    "pcd=my_avg.spcd.pcd\n",
    "print(len(pcd.points))\n",
    "#Visualize the point cloud\n",
    "o3d.visualization.draw_geometries([pcd])\n",
    "\n",
    "\n"
   ]
  },
  {
   "attachments": {},
   "cell_type": "markdown",
   "metadata": {},
   "source": [
    "# Perform Segmentation without Bayesian optimization"
   ]
  },
  {
   "cell_type": "code",
   "execution_count": null,
   "metadata": {},
   "outputs": [],
   "source": [
    "pcds=my_avg.normal_partition()\n",
    "# write a for loop to read each pcd and give random colour to the pcd\n",
    "cluster_collection_color = []\n",
    "for i in range(len(pcds)):\n",
    "    temp_pcd = pcds[i]\n",
    "    color = np.random.random([3, 1])\n",
    "    temp_pcd.paint_uniform_color(color)\n",
    "    cluster_collection_color.append(temp_pcd)\n",
    "\n",
    "o3d.visualization.draw_geometries(cluster_collection_color)\n",
    "#visualize the point cloud on top of the model\n",
    "\n",
    "\n"
   ]
  },
  {
   "cell_type": "markdown",
   "metadata": {},
   "source": [
    "# Perform Segmentation with Bayesian optimization"
   ]
  },
  {
   "cell_type": "code",
   "execution_count": null,
   "metadata": {},
   "outputs": [],
   "source": [
    "pcds=my_avg.smart_partition()\n",
    "# write a for loop to read each pcd and give random colour to the pcd\n",
    "cluster_collection_color = []\n",
    "for i in range(len(pcds)):\n",
    "    temp_pcd = pcds[i]\n",
    "    color = np.random.random([3, 1])\n",
    "    temp_pcd.paint_uniform_color(color)\n",
    "    cluster_collection_color.append(temp_pcd)\n",
    "\n",
    "o3d.visualization.draw_geometries(cluster_collection_color)\n",
    "\n"
   ]
  },
  {
   "cell_type": "markdown",
   "metadata": {},
   "source": [
    "# Load pointcloud data of shape for segmentation"
   ]
  },
  {
   "cell_type": "code",
   "execution_count": 8,
   "metadata": {},
   "outputs": [],
   "source": [
    "#load the point cloud\n",
    "relative_path = os.path.join('parts', 'triangle_20k.ply')\n",
    "absolute_path = os.path.abspath(relative_path)\n",
    "my_avg.spcd.pcd = o3d.io.read_point_cloud(absolute_path)\n",
    "pcd=my_avg.spcd.pcd\n",
    "# Visualize the point cloud\n",
    "o3d.visualization.draw_geometries([pcd])"
   ]
  },
  {
   "cell_type": "markdown",
   "metadata": {},
   "source": [
    "# Perform Segmentation with Bayesian optimization on large planar shapes"
   ]
  },
  {
   "cell_type": "code",
   "execution_count": null,
   "metadata": {},
   "outputs": [],
   "source": [
    "pcds=my_avg.smart_partition()\n",
    "# write a for loop to read each pcd and give random colour to the pcd\n",
    "cluster_collection_color = []\n",
    "for i in range(len(pcds)):\n",
    "    temp_pcd = pcds[i]\n",
    "    color = np.random.random([3, 1])\n",
    "    temp_pcd.paint_uniform_color(color)\n",
    "    cluster_collection_color.append(temp_pcd)\n",
    "\n",
    "o3d.visualization.draw_geometries(cluster_collection_color)\n",
    "\n"
   ]
  }
 ],
 "metadata": {
  "kernelspec": {
   "display_name": "Python 3",
   "language": "python",
   "name": "python3"
  },
  "language_info": {
   "codemirror_mode": {
    "name": "ipython",
    "version": 3
   },
   "file_extension": ".py",
   "mimetype": "text/x-python",
   "name": "python",
   "nbconvert_exporter": "python",
   "pygments_lexer": "ipython3",
   "version": "3.10.12"
  }
 },
 "nbformat": 4,
 "nbformat_minor": 2
}
