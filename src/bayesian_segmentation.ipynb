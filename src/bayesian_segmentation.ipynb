{
 "cells": [
  {
   "cell_type": "code",
   "execution_count": 4,
   "metadata": {},
   "outputs": [],
   "source": [
    "import AutoViewpointGeneration\n",
    "from open3d.geometry import PointCloud\n",
    "import open3d as o3d  # . . . . . . . . . . . . . . . Open3D\n",
    "import numpy as np\n",
    "import os\n",
    "\n",
    "\n"
   ]
  },
  {
   "attachments": {},
   "cell_type": "markdown",
   "metadata": {},
   "source": [
    "# Set Camera Parameters\n",
    "\n",
    "- Load the camera details in this section\n",
    "- Depth of field is represented by DOF\n",
    "- Field of view  is calculated using the parameters such as magnification, region of interest , sensor size and pixel resolution"
   ]
  },
  {
   "cell_type": "code",
   "execution_count": 5,
   "metadata": {},
   "outputs": [],
   "source": [
    "my_avg=AutoViewpointGeneration.AutoViewpointGeneration()\n",
    "my_avg.camera.dof=4\n",
    "my_avg.camera.magnification=3\n",
    "my_avg.camera.sensor_height_mm=23.8\n",
    "my_avg.camera.sensor_width_mm=35.7\n",
    "my_avg.camera.focal_distance=28\n",
    "my_avg.camera.sensor_height_px=6336\n",
    "my_avg.camera.sensor_width_px=9504\n",
    "my_avg.camera.roi_height=1024\n",
    "my_avg.camera.roi_width=1024\n",
    "my_avg.surface_resampler.points_per_square_mm=1\n"
   ]
  },
  {
   "attachments": {},
   "cell_type": "markdown",
   "metadata": {},
   "source": [
    "## Load Model and Visualize Model\n",
    "\n",
    "- Here the stl model Sphere.stl is used, the file can be found in the parts folder.\n",
    "- In order to test other stl files, place the desired stl file in the parts folder and type in your stl file name in the places of \"Sphere.stl\"\n",
    "- After loading the model the point cloud for that model is generated on a new window, check the visualization and close it inorder to proceed forward\n"
   ]
  },
  {
   "cell_type": "code",
   "execution_count": 16,
   "metadata": {},
   "outputs": [
    {
     "name": "stdout",
     "output_type": "stream",
     "text": [
      "Loading model from /home/arun/Autoviewpoint_Generation/InspectionMLviewpointGen/src/parts/hollow_hemisphere_2k.stl\n",
      "Loading model: /home/arun/Autoviewpoint_Generation/InspectionMLviewpointGen/src/parts/hollow_hemisphere_2k.stl\n",
      "folder: /home/arun/Autoviewpoint_Generation/InspectionMLviewpointGen/src/parts, ext: .stl\n",
      "folder: /home/arun/Autoviewpoint_Generation/InspectionMLviewpointGen/src/parts/hollow_hemisphere_2k/PointCloud\n",
      "2684\n"
     ]
    }
   ],
   "source": [
    "relative_path = os.path.join( 'parts', 't-stiffner_2k.stl')\n",
    "absolute_path = os.path.abspath(relative_path)\n",
    "my_avg.load_model(absolute_path,\"m\",[0., 1., 0., 1.])\n",
    "my_avg.generate_pcd()\n",
    "pcd=PointCloud()\n",
    "pcd=my_avg.spcd.pcd\n",
    "print(len(pcd.points))\n",
    "#Visualize the point cloud\n",
    "o3d.visualization.draw_geometries([pcd])\n",
    "\n",
    "\n"
   ]
  },
  {
   "attachments": {},
   "cell_type": "markdown",
   "metadata": {},
   "source": [
    "# Perform Segmentation without Bayesian optimization"
   ]
  },
  {
   "cell_type": "code",
   "execution_count": 17,
   "metadata": {},
   "outputs": [
    {
     "name": "stdout",
     "output_type": "stream",
     "text": [
      "Partitioning part into planar patches:\n",
      "Finding K upper bound...\n",
      "K_high = 1 is not valid, incrementing K_high...\n",
      "K_high = 2 is not valid, incrementing K_high...\n",
      "K_high = 4 is not valid, incrementing K_high...\n",
      "K_high = 8 is not valid, incrementing K_high...\n",
      "K_high = 16 is valid. Starting Binary search between K_high/2 and K_high...\n",
      "K: 12, Valid: False\n",
      "K: 14, Valid: False\n",
      "K: 15, Valid: True\n",
      "K: 15 is valid for DOF K-means clustering.\n",
      "Partitioning planar patch 0 into regions:\n",
      "158.76650706249146\n",
      "Finding K upper bound...\n",
      "K_high = 1 is not valid, incrementing K_high...\n",
      "K_high = 2 is not valid, incrementing K_high...\n",
      "K_high = 4 is valid. Starting Binary search between K_high/2 and K_high...\n",
      "K: 3, Valid: True\n",
      "K: 2, Valid: False\n",
      "K: 3 is valid for DOF K-means clustering.\n",
      "Partitioning planar patch 1 into regions:\n",
      "157.52240612610865\n",
      "Finding K upper bound...\n",
      "K_high = 1 is not valid, incrementing K_high...\n",
      "K_high = 2 is not valid, incrementing K_high...\n",
      "K_high = 4 is valid. Starting Binary search between K_high/2 and K_high...\n",
      "K: 3, Valid: False\n",
      "K: 4 is valid for DOF K-means clustering.\n",
      "Partitioning planar patch 2 into regions:\n",
      "165.510518908954\n",
      "Finding K upper bound...\n",
      "K_high = 1 is not valid, incrementing K_high...\n",
      "K_high = 2 is not valid, incrementing K_high...\n",
      "K_high = 4 is valid. Starting Binary search between K_high/2 and K_high...\n",
      "K: 3, Valid: False\n",
      "K: 4 is valid for DOF K-means clustering.\n",
      "Partitioning planar patch 3 into regions:\n",
      "174.59180695381667\n",
      "Finding K upper bound...\n",
      "K_high = 1 is not valid, incrementing K_high...\n",
      "K_high = 2 is not valid, incrementing K_high...\n",
      "K_high = 4 is valid. Starting Binary search between K_high/2 and K_high...\n",
      "K: 3, Valid: False\n",
      "K: 4 is valid for DOF K-means clustering.\n",
      "Partitioning planar patch 4 into regions:\n",
      "150.1229174216321\n",
      "Finding K upper bound...\n",
      "K_high = 1 is not valid, incrementing K_high...\n",
      "K_high = 2 is not valid, incrementing K_high...\n",
      "K_high = 4 is valid. Starting Binary search between K_high/2 and K_high...\n",
      "K: 3, Valid: False\n",
      "K: 4 is valid for DOF K-means clustering.\n",
      "Partitioning planar patch 5 into regions:\n",
      "177.0856951090603\n",
      "Finding K upper bound...\n",
      "K_high = 1 is not valid, incrementing K_high...\n",
      "K_high = 2 is not valid, incrementing K_high...\n",
      "K_high = 4 is valid. Starting Binary search between K_high/2 and K_high...\n",
      "K: 3, Valid: True\n",
      "K: 2, Valid: False\n",
      "K: 3 is valid for DOF K-means clustering.\n",
      "Partitioning planar patch 6 into regions:\n",
      "173.16432452655064\n",
      "Finding K upper bound...\n",
      "K_high = 1 is not valid, incrementing K_high...\n",
      "K_high = 2 is not valid, incrementing K_high...\n",
      "K_high = 4 is valid. Starting Binary search between K_high/2 and K_high...\n",
      "K: 3, Valid: False\n",
      "K: 4 is valid for DOF K-means clustering.\n",
      "Partitioning planar patch 7 into regions:\n",
      "242.86831333645551\n",
      "Finding K upper bound...\n",
      "K_high = 2 is not valid, incrementing K_high...\n",
      "K_high = 4 is not valid, incrementing K_high...\n",
      "K_high = 8 is valid. Starting Binary search between K_high/2 and K_high...\n",
      "K: 6, Valid: True\n",
      "K: 5, Valid: True\n",
      "K: 4, Valid: False\n",
      "K: 5 is valid for DOF K-means clustering.\n",
      "Partitioning planar patch 8 into regions:\n",
      "147.41848116931286\n",
      "Finding K upper bound...\n",
      "K_high = 1 is not valid, incrementing K_high...\n",
      "K_high = 2 is not valid, incrementing K_high...\n",
      "K_high = 4 is valid. Starting Binary search between K_high/2 and K_high...\n",
      "K: 3, Valid: True\n",
      "K: 2, Valid: False\n",
      "K: 3 is valid for DOF K-means clustering.\n",
      "Partitioning planar patch 9 into regions:\n",
      "185.2911112997396\n",
      "Finding K upper bound...\n",
      "K_high = 1 is not valid, incrementing K_high...\n",
      "K_high = 2 is not valid, incrementing K_high...\n",
      "K_high = 4 is valid. Starting Binary search between K_high/2 and K_high...\n",
      "K: 3, Valid: True\n",
      "K: 2, Valid: False\n",
      "K: 3 is valid for DOF K-means clustering.\n",
      "Partitioning planar patch 10 into regions:\n",
      "171.53895027617472\n",
      "Finding K upper bound...\n",
      "K_high = 1 is not valid, incrementing K_high...\n",
      "K_high = 2 is not valid, incrementing K_high...\n",
      "K_high = 4 is valid. Starting Binary search between K_high/2 and K_high...\n",
      "K: 3, Valid: False\n",
      "K: 4 is valid for DOF K-means clustering.\n",
      "Partitioning planar patch 11 into regions:\n",
      "181.92003952409962\n",
      "Finding K upper bound...\n",
      "K_high = 1 is not valid, incrementing K_high...\n",
      "K_high = 2 is not valid, incrementing K_high...\n",
      "K_high = 4 is valid. Starting Binary search between K_high/2 and K_high...\n",
      "K: 3, Valid: False\n",
      "K: 4 is valid for DOF K-means clustering.\n",
      "Partitioning planar patch 12 into regions:\n",
      "176.2280652173894\n",
      "Finding K upper bound...\n",
      "K_high = 1 is not valid, incrementing K_high...\n",
      "K_high = 2 is not valid, incrementing K_high...\n",
      "K_high = 4 is valid. Starting Binary search between K_high/2 and K_high...\n",
      "K: 3, Valid: False\n",
      "K: 4 is valid for DOF K-means clustering.\n",
      "Partitioning planar patch 13 into regions:\n",
      "675.8626087034628\n",
      "Finding K upper bound...\n",
      "K_high = 6 is not valid, incrementing K_high...\n",
      "K_high = 12 is valid. Starting Binary search between K_high/2 and K_high...\n",
      "K: 9, Valid: True\n",
      "K: 7, Valid: False\n",
      "K: 8, Valid: False\n",
      "K: 9 is valid for DOF K-means clustering.\n",
      "Partitioning planar patch 14 into regions:\n",
      "146.3340481306438\n",
      "Finding K upper bound...\n",
      "K_high = 1 is not valid, incrementing K_high...\n",
      "K_high = 2 is valid. Starting Binary search between K_high/2 and K_high...\n",
      "K: 1, Valid: False\n",
      "K: 2 is valid for DOF K-means clustering.\n",
      "[PointCloud with 57 points., PointCloud with 61 points., PointCloud with 55 points., PointCloud with 44 points., PointCloud with 45 points., PointCloud with 42 points., PointCloud with 47 points., PointCloud with 46 points., PointCloud with 45 points., PointCloud with 41 points., PointCloud with 46 points., PointCloud with 39 points., PointCloud with 46 points., PointCloud with 55 points., PointCloud with 43 points., PointCloud with 41 points., PointCloud with 30 points., PointCloud with 45 points., PointCloud with 39 points., PointCloud with 72 points., PointCloud with 68 points., PointCloud with 57 points., PointCloud with 45 points., PointCloud with 47 points., PointCloud with 45 points., PointCloud with 51 points., PointCloud with 56 points., PointCloud with 52 points., PointCloud with 58 points., PointCloud with 61 points., PointCloud with 50 points., PointCloud with 54 points., PointCloud with 52 points., PointCloud with 48 points., PointCloud with 57 points., PointCloud with 75 points., PointCloud with 53 points., PointCloud with 47 points., PointCloud with 50 points., PointCloud with 47 points., PointCloud with 39 points., PointCloud with 43 points., PointCloud with 56 points., PointCloud with 42 points., PointCloud with 42 points., PointCloud with 49 points., PointCloud with 43 points., PointCloud with 43 points., PointCloud with 46 points., PointCloud with 13 points., PointCloud with 12 points., PointCloud with 15 points., PointCloud with 18 points., PointCloud with 16 points., PointCloud with 10 points., PointCloud with 13 points., PointCloud with 14 points., PointCloud with 13 points., PointCloud with 72 points., PointCloud with 73 points.]\n"
     ]
    }
   ],
   "source": [
    "pcds=my_avg.normal_partition()\n",
    "# write a for loop to read each pcd and give random colour to the pcd\n",
    "cluster_collection_color = []\n",
    "for i in range(len(pcds)):\n",
    "    temp_pcd = pcds[i]\n",
    "    color = np.random.random([3, 1])\n",
    "    temp_pcd.paint_uniform_color(color)\n",
    "    cluster_collection_color.append(temp_pcd)\n",
    "\n",
    "o3d.visualization.draw_geometries(cluster_collection_color)\n",
    "\n"
   ]
  },
  {
   "cell_type": "markdown",
   "metadata": {},
   "source": [
    "# Perform Segmentation with Bayesian optimization"
   ]
  },
  {
   "cell_type": "code",
   "execution_count": null,
   "metadata": {},
   "outputs": [],
   "source": [
    "pcds=my_avg.smart_partition()\n",
    "# write a for loop to read each pcd and give random colour to the pcd\n",
    "cluster_collection_color = []\n",
    "for i in range(len(pcds)):\n",
    "    temp_pcd = pcds[i]\n",
    "    color = np.random.random([3, 1])\n",
    "    temp_pcd.paint_uniform_color(color)\n",
    "    cluster_collection_color.append(temp_pcd)\n",
    "\n",
    "o3d.visualization.draw_geometries(cluster_collection_color)\n",
    "\n"
   ]
  },
  {
   "cell_type": "markdown",
   "metadata": {},
   "source": [
    "# Load pointcloud data of shape for segmentation"
   ]
  },
  {
   "cell_type": "code",
   "execution_count": 8,
   "metadata": {},
   "outputs": [],
   "source": [
    "#load the point cloud\n",
    "relative_path = os.path.join('parts', 'triangle_20k.ply')\n",
    "absolute_path = os.path.abspath(relative_path)\n",
    "my_avg.spcd.pcd = o3d.io.read_point_cloud(absolute_path)\n",
    "pcd=my_avg.spcd.pcd\n",
    "# Visualize the point cloud\n",
    "o3d.visualization.draw_geometries([pcd])"
   ]
  },
  {
   "cell_type": "markdown",
   "metadata": {},
   "source": [
    "# Perform Segmentation with Bayesian optimization on large planar shapes"
   ]
  },
  {
   "cell_type": "code",
   "execution_count": null,
   "metadata": {},
   "outputs": [],
   "source": [
    "pcds=my_avg.smart_partition()\n",
    "# write a for loop to read each pcd and give random colour to the pcd\n",
    "cluster_collection_color = []\n",
    "for i in range(len(pcds)):\n",
    "    temp_pcd = pcds[i]\n",
    "    color = np.random.random([3, 1])\n",
    "    temp_pcd.paint_uniform_color(color)\n",
    "    cluster_collection_color.append(temp_pcd)\n",
    "\n",
    "o3d.visualization.draw_geometries(cluster_collection_color)\n",
    "\n"
   ]
  }
 ],
 "metadata": {
  "kernelspec": {
   "display_name": "Python 3",
   "language": "python",
   "name": "python3"
  },
  "language_info": {
   "codemirror_mode": {
    "name": "ipython",
    "version": 3
   },
   "file_extension": ".py",
   "mimetype": "text/x-python",
   "name": "python",
   "nbconvert_exporter": "python",
   "pygments_lexer": "ipython3",
   "version": "3.10.12"
  }
 },
 "nbformat": 4,
 "nbformat_minor": 2
}
